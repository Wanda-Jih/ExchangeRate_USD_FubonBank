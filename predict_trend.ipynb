{
  "nbformat": 4,
  "nbformat_minor": 0,
  "metadata": {
    "colab": {
      "name": "predict_trend.ipynb",
      "provenance": [],
      "collapsed_sections": []
    },
    "kernelspec": {
      "name": "python3",
      "display_name": "Python 3"
    },
    "language_info": {
      "name": "python"
    }
  },
  "cells": [
    {
      "cell_type": "markdown",
      "metadata": {
        "id": "BxXjaUT3g0p3"
      },
      "source": [
        "**Predict the forex(USD) trend from Fubon Bank** "
      ]
    },
    {
      "cell_type": "markdown",
      "metadata": {
        "id": "jePgkiWfjhUn"
      },
      "source": [
        "This project is a reference to this [website](https://pythondata.com/forecasting-time-series-autoregression/)"
      ]
    },
    {
      "cell_type": "markdown",
      "metadata": {
        "id": "mHOp_4cEjQeF"
      },
      "source": [
        "**Install statesmodels for Autoregression Model**"
      ]
    },
    {
      "cell_type": "code",
      "metadata": {
        "colab": {
          "base_uri": "https://localhost:8080/"
        },
        "id": "86JZTQUhi9K1",
        "outputId": "ca1a6a44-377d-42a5-916d-3d81675ca379"
      },
      "source": [
        "!pip3 install statsmodels"
      ],
      "execution_count": 1,
      "outputs": [
        {
          "output_type": "stream",
          "name": "stdout",
          "text": [
            "Requirement already satisfied: statsmodels in /usr/local/lib/python3.7/dist-packages (0.12.2)\n",
            "Requirement already satisfied: patsy>=0.5 in /usr/local/lib/python3.7/dist-packages (from statsmodels) (0.5.1)\n",
            "Requirement already satisfied: pandas>=0.21 in /usr/local/lib/python3.7/dist-packages (from statsmodels) (1.1.5)\n",
            "Requirement already satisfied: numpy>=1.15 in /usr/local/lib/python3.7/dist-packages (from statsmodels) (1.19.5)\n",
            "Requirement already satisfied: scipy>=1.1 in /usr/local/lib/python3.7/dist-packages (from statsmodels) (1.4.1)\n",
            "Requirement already satisfied: pytz>=2017.2 in /usr/local/lib/python3.7/dist-packages (from pandas>=0.21->statsmodels) (2018.9)\n",
            "Requirement already satisfied: python-dateutil>=2.7.3 in /usr/local/lib/python3.7/dist-packages (from pandas>=0.21->statsmodels) (2.8.2)\n",
            "Requirement already satisfied: six in /usr/local/lib/python3.7/dist-packages (from patsy>=0.5->statsmodels) (1.15.0)\n"
          ]
        }
      ]
    },
    {
      "cell_type": "code",
      "metadata": {
        "id": "gbhLv1m-gywG"
      },
      "source": [
        "import pandas\n",
        "import matplotlib.pyplot as plt\n",
        "from statsmodels.tsa.ar_model import AutoReg"
      ],
      "execution_count": 2,
      "outputs": []
    },
    {
      "cell_type": "markdown",
      "metadata": {
        "id": "U46Sxzo1hVPv"
      },
      "source": [
        "**Get the data from the website**"
      ]
    },
    {
      "cell_type": "markdown",
      "metadata": {
        "id": "-ijCRCUWkSk9"
      },
      "source": [
        "The attributes are [time], [bank buying price], [bank selling price]"
      ]
    },
    {
      "cell_type": "code",
      "metadata": {
        "colab": {
          "base_uri": "https://localhost:8080/"
        },
        "id": "3IrzB0Pwj--W",
        "outputId": "c7f6b190-0d06-4485-92ee-c731848f61ce"
      },
      "source": [
        "    # six months USD exchange rate trend\n",
        "    url = 'https://www.fubon.com/Fubon_Portal/banking/Personal/deposit/exchange_rate/exchange_rate1_photo.jsp?urlParameter=6M&currency=USD'\n",
        "    pd = pandas.read_html(url)\n",
        "    print(pd)"
      ],
      "execution_count": 3,
      "outputs": [
        {
          "output_type": "stream",
          "name": "stdout",
          "text": [
            "[             時間     銀行買入     銀行賣出\n",
            "0    2021/09/28  27.7310  27.8310\n",
            "1    2021/09/27  27.6660  27.7660\n",
            "2    2021/09/24  27.6710  27.7710\n",
            "3    2021/09/23  27.7140  27.8140\n",
            "4    2021/09/22  27.7225  27.8225\n",
            "..          ...      ...      ...\n",
            "121  2021/04/07  28.3725  28.4725\n",
            "122  2021/04/06  28.4335  28.5335\n",
            "123  2021/04/01  28.4725  28.5725\n",
            "124  2021/03/31  28.4830  28.5830\n",
            "125  2021/03/30  28.4605  28.5605\n",
            "\n",
            "[126 rows x 3 columns]]\n"
          ]
        }
      ]
    },
    {
      "cell_type": "markdown",
      "metadata": {
        "id": "WpRMKrAsk0lB"
      },
      "source": [
        "**Prepare for the dataset**\n",
        "\n",
        "1.   Convert two columns in a table into two separate lists\n",
        "2.   Use matplotlib to print two data trends"
      ]
    },
    {
      "cell_type": "markdown",
      "metadata": {
        "id": "TIjEcQh7lABd"
      },
      "source": [
        "Seperate the two columns([bank buying price], [bank selling price]) into two lists\n",
        "\n",
        "*   buyList\n",
        "*   sellList\n",
        "\n"
      ]
    },
    {
      "cell_type": "code",
      "metadata": {
        "id": "lJJ6gqufk4QJ"
      },
      "source": [
        "currency = pd[0] \n",
        "buyList = []\n",
        "sellList = []\n",
        "buyList = currency[:][['銀行買入']].values\n",
        "sellList = currency[:][['銀行賣出']].values"
      ],
      "execution_count": 4,
      "outputs": []
    },
    {
      "cell_type": "markdown",
      "metadata": {
        "id": "gC4LDuJDlgmk"
      },
      "source": [
        "You can tell the trend line from **buying price**"
      ]
    },
    {
      "cell_type": "code",
      "metadata": {
        "colab": {
          "base_uri": "https://localhost:8080/",
          "height": 281
        },
        "id": "0zxM2gmNla7W",
        "outputId": "c86d444a-9431-4b15-8fe4-f042711b41c2"
      },
      "source": [
        "plt.plot(buyList)\n",
        "plt.title(\"Buying price trend\")\n",
        "plt.show()"
      ],
      "execution_count": 5,
      "outputs": [
        {
          "output_type": "display_data",
          "data": {
            "image/png": "[encoded data removed]",
            "text/plain": [
              "<Figure size 432x288 with 1 Axes>"
            ]
          },
          "metadata": {
            "needs_background": "light"
          }
        }
      ]
    },
    {
      "cell_type": "markdown",
      "metadata": {
        "id": "I_3F_PVEmWCE"
      },
      "source": [
        "You can tell the trend line from **selling price**"
      ]
    },
    {
      "cell_type": "code",
      "metadata": {
        "colab": {
          "base_uri": "https://localhost:8080/",
          "height": 281
        },
        "id": "DIkGQmgemZN3",
        "outputId": "340d432a-a077-45e1-9207-b6a35366f714"
      },
      "source": [
        "plt.plot(sellList)\n",
        "plt.title(\"Selling price trend\")\n",
        "plt.show()"
      ],
      "execution_count": 6,
      "outputs": [
        {
          "output_type": "display_data",
          "data": {
            "image/png": "[encoded data removed]",
            "text/plain": [
              "<Figure size 432x288 with 1 Axes>"
            ]
          },
          "metadata": {
            "needs_background": "light"
          }
        }
      ]
    },
    {
      "cell_type": "markdown",
      "metadata": {
        "id": "9k4AzwC2mf2F"
      },
      "source": [
        "**Train Autoregressive Model**\n",
        "\n",
        "1.   Train autoregressive model with buying-price data\n",
        "2.   Train autoregressive model with buying-price data\n",
        "\n"
      ]
    },
    {
      "cell_type": "code",
      "metadata": {
        "colab": {
          "base_uri": "https://localhost:8080/"
        },
        "id": "kGrOtrrFmnUm",
        "outputId": "b9a0a9c5-f68b-4584-e4f7-cf970e174a0f"
      },
      "source": [
        "data = buyList\n",
        "model = AutoReg(data, lags=1)\n",
        "model_fit = model.fit()"
      ],
      "execution_count": 7,
      "outputs": [
        {
          "output_type": "stream",
          "name": "stderr",
          "text": [
            "/usr/local/lib/python3.7/dist-packages/statsmodels/tsa/ar_model.py:252: FutureWarning: The parameter names will change after 0.12 is released. Set old_names to False to use the new names now. Set old_names to True to use the old names. \n",
            "  FutureWarning,\n"
          ]
        }
      ]
    },
    {
      "cell_type": "code",
      "metadata": {
        "colab": {
          "base_uri": "https://localhost:8080/"
        },
        "id": "Jy-UaLEJm8zH",
        "outputId": "b07d0252-e34c-4083-e4a1-eb5116e03d27"
      },
      "source": [
        "yhat = model_fit.predict(len(data), len(data))\n",
        "print(\"The buying-price prediction:\")\n",
        "print(yhat)"
      ],
      "execution_count": 8,
      "outputs": [
        {
          "output_type": "stream",
          "name": "stdout",
          "text": [
            "The buying-price prediction:\n",
            "[28.46346804]\n"
          ]
        }
      ]
    },
    {
      "cell_type": "code",
      "metadata": {
        "colab": {
          "base_uri": "https://localhost:8080/"
        },
        "id": "ruM6T3CenHal",
        "outputId": "f521a4bb-81a2-452c-eb02-3e9c43d425d7"
      },
      "source": [
        "data = sellList\n",
        "model = AutoReg(data, lags=1)\n",
        "model_fit = model.fit()"
      ],
      "execution_count": 9,
      "outputs": [
        {
          "output_type": "stream",
          "name": "stderr",
          "text": [
            "/usr/local/lib/python3.7/dist-packages/statsmodels/tsa/ar_model.py:252: FutureWarning: The parameter names will change after 0.12 is released. Set old_names to False to use the new names now. Set old_names to True to use the old names. \n",
            "  FutureWarning,\n"
          ]
        }
      ]
    },
    {
      "cell_type": "code",
      "metadata": {
        "colab": {
          "base_uri": "https://localhost:8080/"
        },
        "id": "UrQJCSOOnLul",
        "outputId": "14ddf5ec-f7d8-4100-b7bf-e0ce7988bca1"
      },
      "source": [
        "yhat = model_fit.predict(len(data), len(data))\n",
        "print(\"The selling-price prediction:\")\n",
        "print(yhat)"
      ],
      "execution_count": 10,
      "outputs": [
        {
          "output_type": "stream",
          "name": "stdout",
          "text": [
            "The selling-price prediction:\n",
            "[28.56346804]\n"
          ]
        }
      ]
    }
  ]
}