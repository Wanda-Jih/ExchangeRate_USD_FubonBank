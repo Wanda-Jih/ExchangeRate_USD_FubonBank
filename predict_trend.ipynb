{
  "nbformat": 4,
  "nbformat_minor": 0,
  "metadata": {
    "colab": {
      "name": "predict_trend.ipynb",
      "provenance": [],
      "collapsed_sections": []
    },
    "kernelspec": {
      "name": "python3",
      "display_name": "Python 3"
    },
    "language_info": {
      "name": "python"
    }
  },
  "cells": [
    {
      "cell_type": "markdown",
      "metadata": {
        "id": "BxXjaUT3g0p3"
      },
      "source": [
        "**Predict the forex(USD) trend from Fubon Bank** "
      ]
    },
    {
      "cell_type": "markdown",
      "metadata": {
        "id": "jePgkiWfjhUn"
      },
      "source": [
        "This project is a reference to this [website](https://pythondata.com/forecasting-time-series-autoregression/)"
      ]
    },
    {
      "cell_type": "markdown",
      "metadata": {
        "id": "mHOp_4cEjQeF"
      },
      "source": [
        "**Install statesmodels for Autoregression Model**"
      ]
    },
    {
      "cell_type": "code",
      "metadata": {
        "colab": {
          "base_uri": "https://localhost:8080/",
          "height": 295
        },
        "id": "86JZTQUhi9K1",
        "outputId": "87aae491-7775-4c45-947a-34d2b94e7556"
      },
      "source": [
        "!pip3 install statsmodels"
      ],
      "execution_count": 11,
      "outputs": [
        {
          "output_type": "stream",
          "name": "stdout",
          "text": [
            "Collecting statsmodels\n",
            "  Using cached statsmodels-0.12.2-cp37-cp37m-manylinux1_x86_64.whl (9.5 MB)\n",
            "Requirement already satisfied: pandas>=0.21 in /usr/local/lib/python3.7/dist-packages (from statsmodels) (1.1.5)\n",
            "Requirement already satisfied: patsy>=0.5 in /usr/local/lib/python3.7/dist-packages (from statsmodels) (0.5.1)\n",
            "Requirement already satisfied: numpy>=1.15 in /usr/local/lib/python3.7/dist-packages (from statsmodels) (1.19.5)\n",
            "Requirement already satisfied: scipy>=1.1 in /usr/local/lib/python3.7/dist-packages (from statsmodels) (1.4.1)\n",
            "Requirement already satisfied: python-dateutil>=2.7.3 in /usr/local/lib/python3.7/dist-packages (from pandas>=0.21->statsmodels) (2.8.2)\n",
            "Requirement already satisfied: pytz>=2017.2 in /usr/local/lib/python3.7/dist-packages (from pandas>=0.21->statsmodels) (2018.9)\n",
            "Requirement already satisfied: six in /usr/local/lib/python3.7/dist-packages (from patsy>=0.5->statsmodels) (1.15.0)\n",
            "Installing collected packages: statsmodels\n",
            "Successfully installed statsmodels-0.12.2\n"
          ]
        },
        {
          "output_type": "display_data",
          "data": {
            "application/vnd.colab-display-data+json": {
              "pip_warning": {
                "packages": [
                  "statsmodels"
                ]
              }
            }
          },
          "metadata": {}
        }
      ]
    },
    {
      "cell_type": "code",
      "metadata": {
        "id": "gbhLv1m-gywG"
      },
      "source": [
        "import pandas\n",
        "import matplotlib.pyplot as plt\n",
        "from statsmodels.tsa.ar_model import AutoReg"
      ],
      "execution_count": 1,
      "outputs": []
    },
    {
      "cell_type": "markdown",
      "metadata": {
        "id": "U46Sxzo1hVPv"
      },
      "source": [
        "**Get the data from the website**"
      ]
    },
    {
      "cell_type": "markdown",
      "metadata": {
        "id": "-ijCRCUWkSk9"
      },
      "source": [
        "The attributes are [time], [bank buying price], [bank selling price]"
      ]
    },
    {
      "cell_type": "code",
      "metadata": {
        "colab": {
          "base_uri": "https://localhost:8080/"
        },
        "id": "3IrzB0Pwj--W",
        "outputId": "105601b1-369d-4da3-c4e6-45a3d5bcf05c"
      },
      "source": [
        "    # six months USD exchange rate trend\n",
        "    url = 'https://www.fubon.com/Fubon_Portal/banking/Personal/deposit/exchange_rate/exchange_rate1_photo.jsp?urlParameter=6M&currency=USD'\n",
        "    pd = pandas.read_html(url)\n",
        "    print(pd)"
      ],
      "execution_count": 2,
      "outputs": [
        {
          "output_type": "stream",
          "name": "stdout",
          "text": [
            "[             時間     銀行買入     銀行賣出\n",
            "0    2021/09/28  27.7310  27.8310\n",
            "1    2021/09/27  27.6660  27.7660\n",
            "2    2021/09/24  27.6710  27.7710\n",
            "3    2021/09/23  27.7140  27.8140\n",
            "4    2021/09/22  27.7225  27.8225\n",
            "..          ...      ...      ...\n",
            "121  2021/04/07  28.3725  28.4725\n",
            "122  2021/04/06  28.4335  28.5335\n",
            "123  2021/04/01  28.4725  28.5725\n",
            "124  2021/03/31  28.4830  28.5830\n",
            "125  2021/03/30  28.4605  28.5605\n",
            "\n",
            "[126 rows x 3 columns]]\n"
          ]
        }
      ]
    },
    {
      "cell_type": "markdown",
      "metadata": {
        "id": "WpRMKrAsk0lB"
      },
      "source": [
        "**Prepare for the dataset**\n",
        "\n",
        "1.   Convert two columns in a table into two separate lists\n",
        "2.   Use matplotlib to print two data trends"
      ]
    },
    {
      "cell_type": "markdown",
      "metadata": {
        "id": "TIjEcQh7lABd"
      },
      "source": [
        "Seperate the two columns([bank buying price], [bank selling price]) into two lists\n",
        "\n",
        "*   buyList\n",
        "*   sellList\n",
        "\n"
      ]
    },
    {
      "cell_type": "code",
      "metadata": {
        "id": "lJJ6gqufk4QJ"
      },
      "source": [
        "currency = pd[0] \n",
        "buyList = []\n",
        "sellList = []\n",
        "buyList = currency[:][['銀行買入']].values\n",
        "sellList = currency[:][['銀行賣出']].values"
      ],
      "execution_count": 3,
      "outputs": []
    },
    {
      "cell_type": "markdown",
      "metadata": {
        "id": "gC4LDuJDlgmk"
      },
      "source": [
        "You can tell the trend line from **buying price**"
      ]
    },
    {
      "cell_type": "code",
      "metadata": {
        "colab": {
          "base_uri": "https://localhost:8080/",
          "height": 265
        },
        "id": "0zxM2gmNla7W",
        "outputId": "b184fb38-e552-4c47-dc24-b5c0cf9515ef"
      },
      "source": [
        "plt.plot(buyList)\n",
        "plt.show()"
      ],
      "execution_count": 5,
      "outputs": [
        {
          "output_type": "display_data",
          "data": {
            "image/png": "[encoded data removed]",
            "text/plain": [
              "<Figure size 432x288 with 1 Axes>"
            ]
          },
          "metadata": {
            "needs_background": "light"
          }
        }
      ]
    },
    {
      "cell_type": "markdown",
      "metadata": {
        "id": "I_3F_PVEmWCE"
      },
      "source": [
        "You can tell the trend line from **selling price**"
      ]
    },
    {
      "cell_type": "code",
      "metadata": {
        "colab": {
          "base_uri": "https://localhost:8080/",
          "height": 265
        },
        "id": "DIkGQmgemZN3",
        "outputId": "f0e506d1-c2e8-4f3a-e5cb-0cb45eb6e2b8"
      },
      "source": [
        "plt.plot(sellList)\n",
        "plt.show()"
      ],
      "execution_count": 6,
      "outputs": [
        {
          "output_type": "display_data",
          "data": {
            "image/png": "[encoded data removed]",
            "text/plain": [
              "<Figure size 432x288 with 1 Axes>"
            ]
          },
          "metadata": {
            "needs_background": "light"
          }
        }
      ]
    },
    {
      "cell_type": "markdown",
      "metadata": {
        "id": "9k4AzwC2mf2F"
      },
      "source": [
        "**Train Autoregressive Model**\n",
        "\n",
        "1.   Train autoregressive model with buying-price data\n",
        "2.   Train autoregressive model with buying-price data\n",
        "\n"
      ]
    },
    {
      "cell_type": "code",
      "metadata": {
        "colab": {
          "base_uri": "https://localhost:8080/"
        },
        "id": "kGrOtrrFmnUm",
        "outputId": "ca56136c-de1b-493c-d510-304522049330"
      },
      "source": [
        "data = buyList\n",
        "model = AutoReg(data, lags=1)\n",
        "model_fit = model.fit()"
      ],
      "execution_count": 8,
      "outputs": [
        {
          "output_type": "stream",
          "name": "stderr",
          "text": [
            "/usr/local/lib/python3.7/dist-packages/statsmodels/tsa/ar_model.py:252: FutureWarning: The parameter names will change after 0.12 is released. Set old_names to False to use the new names now. Set old_names to True to use the old names. \n",
            "  FutureWarning,\n"
          ]
        }
      ]
    },
    {
      "cell_type": "code",
      "metadata": {
        "colab": {
          "base_uri": "https://localhost:8080/"
        },
        "id": "Jy-UaLEJm8zH",
        "outputId": "91b24725-ad79-4596-8749-742338e79933"
      },
      "source": [
        "yhat = model_fit.predict(len(data), len(data))\n",
        "print(\"The buying-price prediction:\")\n",
        "print(yhat)"
      ],
      "execution_count": 10,
      "outputs": [
        {
          "output_type": "stream",
          "name": "stdout",
          "text": [
            "The buying-price prediction:\n",
            "[28.46346804]\n"
          ]
        }
      ]
    },
    {
      "cell_type": "code",
      "metadata": {
        "colab": {
          "base_uri": "https://localhost:8080/"
        },
        "id": "ruM6T3CenHal",
        "outputId": "4136b305-1f74-49ac-aaef-fd84bd06f9a6"
      },
      "source": [
        "data = sellList\n",
        "model = AutoReg(data, lags=1)\n",
        "model_fit = model.fit()"
      ],
      "execution_count": 11,
      "outputs": [
        {
          "output_type": "stream",
          "name": "stderr",
          "text": [
            "/usr/local/lib/python3.7/dist-packages/statsmodels/tsa/ar_model.py:252: FutureWarning: The parameter names will change after 0.12 is released. Set old_names to False to use the new names now. Set old_names to True to use the old names. \n",
            "  FutureWarning,\n"
          ]
        }
      ]
    },
    {
      "cell_type": "code",
      "metadata": {
        "colab": {
          "base_uri": "https://localhost:8080/"
        },
        "id": "UrQJCSOOnLul",
        "outputId": "2d105091-b13f-4b84-d349-5216aabb9c77"
      },
      "source": [
        "yhat = model_fit.predict(len(data), len(data))\n",
        "print(\"The selling-price prediction:\")\n",
        "print(yhat)"
      ],
      "execution_count": 12,
      "outputs": [
        {
          "output_type": "stream",
          "name": "stdout",
          "text": [
            "The selling-price prediction:\n",
            "[28.56346804]\n"
          ]
        }
      ]
    }
  ]
}